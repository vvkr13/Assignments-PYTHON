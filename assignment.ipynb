{
  "nbformat": 4,
  "nbformat_minor": 0,
  "metadata": {
    "colab": {
      "name": "assignment",
      "provenance": [],
      "collapsed_sections": []
    },
    "kernelspec": {
      "name": "python3",
      "display_name": "Python 3"
    }
  },
  "cells": [
    {
      "cell_type": "code",
      "metadata": {
        "id": "WGcgXkDSlp2u",
        "outputId": "f13ae174-932e-4183-f9bf-f68c49c5e137",
        "colab": {
          "base_uri": "https://localhost:8080/",
          "height": 34
        }
      },
      "source": [
        "##square of a number\n",
        "def square(n):\n",
        "  try:\n",
        "    n=int(n)\n",
        "    return n*n\n",
        "  except:\n",
        "    return \"you need to enter numbers only\"\n",
        "#x=input()\n",
        "#square(x)        \n",
        "def sq(n):\n",
        "  if type(n)==str:\n",
        "    print('enter numbers only')\n",
        "  else:\n",
        "    return n*n\n",
        "sq(\"k\")      \n"
      ],
      "execution_count": null,
      "outputs": [
        {
          "output_type": "stream",
          "text": [
            "enter numbers only\n"
          ],
          "name": "stdout"
        }
      ]
    },
    {
      "cell_type": "code",
      "metadata": {
        "id": "V5Laf6Jalr5F",
        "outputId": "0793193b-47cd-469c-f0b0-47cfe7dc2310",
        "colab": {
          "base_uri": "https://localhost:8080/",
          "height": 102
        }
      },
      "source": [
        "\"\"\"\"this program takes a list and returns\n",
        "                    its product,sum,reverse,squars of list\"\"\"\n",
        "def ques2(x):\n",
        "  sum=0\n",
        "  product=1\n",
        "  \n",
        "  for ele in x:\n",
        "    sum+=ele\n",
        "  print(\"sum of all elements:\",sum)\n",
        "  for ele in x:\n",
        "    product*=ele\n",
        "  print(\"product of the list:\",product)\n",
        "  squares=[i**2 for i in x]\n",
        "  print(\"squares of list:\",squares)\n",
        "  \n",
        "  print(\"reverse of a list :\",x[::-1])\n",
        "n=int(input(\"enter size of list \"))\n",
        "x=[i for i in range(1,n+1)]\n",
        "ques2(x)\n"
      ],
      "execution_count": null,
      "outputs": [
        {
          "output_type": "stream",
          "text": [
            "enter size of list 5\n",
            "sum of all elements: 15\n",
            "product of the list: 120\n",
            "squares of list: [1, 4, 9, 16, 25]\n",
            "reverse of a list : [5, 4, 3, 2, 1]\n"
          ],
          "name": "stdout"
        }
      ]
    },
    {
      "cell_type": "code",
      "metadata": {
        "id": "zkpMR3UHq-Rt",
        "outputId": "9cc3e0f5-e1d5-480f-db38-e3090a149910",
        "colab": {
          "base_uri": "https://localhost:8080/",
          "height": 68
        }
      },
      "source": [
        "##number postive or negative\n",
        "num1=int(input(\"enter number1:\"))\n",
        "num2=int(input(\"enter number2:\"))\n",
        "sum=num1+num2\n",
        "if sum%2==0:\n",
        "  if sum>0:\n",
        "    print(\"the sum is a postive number and even\",sum)\n",
        "  else:\n",
        "    print(\"the sum is negative number and even\",sum)\n",
        "else:\n",
        "  if sum<0:\n",
        "    print(\"sum is negative and odd\",sum)\n",
        "  else:\n",
        "    print('sum is positive and odd',sum)\n",
        "\n",
        "\n",
        "  "
      ],
      "execution_count": 2,
      "outputs": [
        {
          "output_type": "stream",
          "text": [
            "enter number15\n",
            "enter number25\n",
            "the sum is a postive number and even 10\n"
          ],
          "name": "stdout"
        }
      ]
    },
    {
      "cell_type": "code",
      "metadata": {
        "id": "nAdVFQqVwmOr",
        "outputId": "04a34382-8a58-4847-d271-37ad01600620",
        "colab": {
          "base_uri": "https://localhost:8080/",
          "height": 68
        }
      },
      "source": [
        "##reversing astring\n",
        "x=input(\"enter a string\")\n",
        "print(\"enterd string\",x)\n",
        "print(\"reverse\",x[::-1])\n",
        "\n"
      ],
      "execution_count": null,
      "outputs": [
        {
          "output_type": "stream",
          "text": [
            "enter a stringvivek\n",
            "enterd string vivek\n",
            "reverse keviv\n"
          ],
          "name": "stdout"
        }
      ]
    },
    {
      "cell_type": "code",
      "metadata": {
        "id": "yNE8DlCUl7Xc",
        "outputId": "022926c1-66d4-4f83-d898-4333d8237a35",
        "colab": {
          "base_uri": "https://localhost:8080/",
          "height": 102
        }
      },
      "source": [
        "#avg for list of numbers\n",
        "x=int(input(\" for how many numbers you want to find average\"))\n",
        "lst=[]\n",
        "for i in range(1,x+1):\n",
        "  k=int(input())\n",
        "  lst.append(k)\n",
        "sum=0\n",
        "\n",
        "for i in lst:\n",
        "  sum+=i\n",
        "  avg=sum/len(lst)  \n",
        "print(\"average:\",avg)\n",
        "\n"
      ],
      "execution_count": 1,
      "outputs": [
        {
          "output_type": "stream",
          "text": [
            "how many numbers you want3\n",
            "4\n",
            "5\n",
            "6\n",
            "average: 5.0\n"
          ],
          "name": "stdout"
        }
      ]
    },
    {
      "cell_type": "code",
      "metadata": {
        "id": "CeGj8mDhEKMi",
        "outputId": "f78c1636-5726-4bb2-9b6b-98d85d686dad",
        "colab": {
          "base_uri": "https://localhost:8080/",
          "height": 136
        }
      },
      "source": [
        "##print numbr only if it is in given range\n",
        "lowest=int(input(\"enter the lowest\"))\n",
        "highest=int(input(\"enter the highest\"))\n",
        "while True:\n",
        "  x=int(input())\n",
        "  if x>=lowest and x<=highest:\n",
        "    print(\"you entered\",x)\n",
        "    print(x,\"you entered in range\")\n",
        "    break\n",
        "\n",
        "\n",
        "\n"
      ],
      "execution_count": 3,
      "outputs": [
        {
          "output_type": "stream",
          "text": [
            "enter the lowest2\n",
            "enter the highest20\n",
            "40\n",
            "50\n",
            "20\n",
            "you entered 20\n",
            "20 you entered in range\n"
          ],
          "name": "stdout"
        }
      ]
    },
    {
      "cell_type": "code",
      "metadata": {
        "id": "P61i08DcHTrI"
      },
      "source": [
        "#b*b -4ac\n",
        "a=int(input(\"enter the value of a:\"))\n",
        "b=int(input(\"enter the value of b:\"))\n",
        "c=int(input(\"enter the value of c:\"))\n",
        "def main(a,b,c):\n",
        "  return b*b-(4*a*c)\n",
        "main(a,b,c)  \n",
        "\n"
      ],
      "execution_count": null,
      "outputs": []
    },
    {
      "cell_type": "markdown",
      "metadata": {
        "id": "q3SWg2MSxfFd"
      },
      "source": [
        ""
      ]
    },
    {
      "cell_type": "code",
      "metadata": {
        "id": "BK4z-CyNNAau"
      },
      "source": [
        "\n",
        "  "
      ],
      "execution_count": null,
      "outputs": []
    },
    {
      "cell_type": "code",
      "metadata": {
        "id": "Mq3KwIorR8H0"
      },
      "source": [
        "#adding odd index values and even index values\n",
        "\n",
        "x=[4,6,8,10,12,14,16]\n",
        "sumofodd=0\n",
        "sumofeven=0\n",
        "for i in range(len(x)):\n",
        "  if i%2==0:\n",
        "    sumofeven+=x[i]\n",
        "    print(x[i],end=\" \")\n",
        "    print()\n",
        "for k in range(len(x)):   \n",
        "  if k%2!=0:\n",
        "    sumofodd+=x[k]\n",
        "    print()\n",
        "    print(x[k],end=' ')\n",
        "    \n",
        "print()\n",
        "print(\"sum of odd:\",sumofeven)\n",
        "print(\"sum of even;\",sumofodd)  \n",
        "\n"
      ],
      "execution_count": null,
      "outputs": []
    },
    {
      "cell_type": "code",
      "metadata": {
        "id": "MPx1GAx0NSli"
      },
      "source": [
        "lst=[]\n",
        "pr=[]\n",
        "q=int(input(\"enter the length of the list\"))\n",
        "for i in range(0,q):\n",
        "  m=int(input())\n",
        "  lst.append(m)\n",
        "print(lst)\n",
        "for j in lst:\n",
        "  if j>1:\n",
        "    for k in range(2,j):\n",
        "      if j%k==0:\n",
        "        pr.append(\"not prime\")\n",
        "        break\n",
        "    else:\n",
        "      pr.append(\"prime\")\n",
        "  else:\n",
        "    pr.append(\"not prime\")\n",
        "print(pr)      "
      ],
      "execution_count": null,
      "outputs": []
    },
    {
      "cell_type": "code",
      "metadata": {
        "id": "s_NvMxsT9pIv"
      },
      "source": [
        "#prime numbers\n",
        "def prime(x):\n",
        "  if x>1:\n",
        "    for i in range(2,x):\n",
        "      if x%i==0:\n",
        "        return \"not prime\"\n",
        "        #break\n",
        "    else:\n",
        "      return \"prime\"\n",
        "  else:\n",
        "    return \"not prime\"\n",
        "  \n",
        "x=[i for i in range(1,10)]\n",
        "print(x)\n",
        "k=list(map(prime,x))\n",
        "print(k)\n",
        "\n",
        "\n"
      ],
      "execution_count": null,
      "outputs": []
    },
    {
      "cell_type": "markdown",
      "metadata": {
        "id": "4Wm_fMkUx-U1"
      },
      "source": [
        ""
      ]
    },
    {
      "cell_type": "code",
      "metadata": {
        "id": "eTDKFM1S8FJU"
      },
      "source": [
        "dict={1:\"one\",2:\"two\",3:\"three\",4:\"four\",5:\"five\",6:\"six\",7:\"seven\",8:\"eight\",9:\"nine\"}\n",
        "k=int(input())\n",
        "if k>9:\n",
        "  print(\"you enter only single digit\")\n",
        "else:\n",
        "  x=dict[k]\n",
        "  print(x)  \n"
      ],
      "execution_count": null,
      "outputs": []
    }
  ]
}